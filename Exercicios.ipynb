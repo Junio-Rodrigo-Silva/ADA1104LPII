{
  "nbformat": 4,
  "nbformat_minor": 0,
  "metadata": {
    "colab": {
      "provenance": [],
      "authorship_tag": "ABX9TyMqU3km7DN7ucvsErfhwKSk",
      "include_colab_link": true
    },
    "kernelspec": {
      "name": "python3",
      "display_name": "Python 3"
    },
    "language_info": {
      "name": "python"
    }
  },
  "cells": [
    {
      "cell_type": "markdown",
      "metadata": {
        "id": "view-in-github",
        "colab_type": "text"
      },
      "source": [
        "<a href=\"https://colab.research.google.com/github/Junio-Rodrigo-Silva/ADA1104LPII/blob/main/Exercicios.ipynb\" target=\"_parent\"><img src=\"https://colab.research.google.com/assets/colab-badge.svg\" alt=\"Open In Colab\"/></a>"
      ]
    },
    {
      "cell_type": "markdown",
      "source": [
        "Resolva de forma mais eficiente e sucinta usando listas e/ou tuplas:\n",
        "\n",
        "1- Faça um programa que olhe todos os itens de uma lista e diga quantos deles são pares."
      ],
      "metadata": {
        "id": "NH8tW3WXoNzU"
      }
    },
    {
      "cell_type": "code",
      "source": [
        "lista = [1,10,2,3,77,66,80,101]\n",
        "pares = []\n",
        "\n",
        "for num in lista:\n",
        "  if num % 2 == 0:\n",
        "    pares.append(num)\n",
        "print(f\"Os números pares da lista são: {pares}\")"
      ],
      "metadata": {
        "colab": {
          "base_uri": "https://localhost:8080/"
        },
        "id": "FdTF1jMKoaZy",
        "outputId": "47d6110f-d1ff-4be8-f576-adc5859b3d15"
      },
      "execution_count": 9,
      "outputs": [
        {
          "output_type": "stream",
          "name": "stdout",
          "text": [
            "Os números pares da lista são: [10, 2, 66, 80]\n"
          ]
        }
      ]
    },
    {
      "cell_type": "markdown",
      "source": [
        "2- Faça um programa que imprima o maior número de uma lista, sem usar o método max()"
      ],
      "metadata": {
        "id": "zlQucOJurDtc"
      }
    },
    {
      "cell_type": "code",
      "source": [
        "lista = [3, 7, 2, 10, 5, 8]\n",
        "maior_numero = lista[0]\n",
        "\n",
        "for numero in lista:\n",
        "    if numero > maior_numero:\n",
        "        maior_numero = numero\n",
        "print(f\"O maior número na lista é: {maior_numero}\")\n"
      ],
      "metadata": {
        "colab": {
          "base_uri": "https://localhost:8080/"
        },
        "id": "ZHnie8z2rPKo",
        "outputId": "b32aad4b-5a5e-4f41-e195-a7c6d4d5190b"
      },
      "execution_count": 10,
      "outputs": [
        {
          "output_type": "stream",
          "name": "stdout",
          "text": [
            "O maior número na lista é: 10\n"
          ]
        }
      ]
    },
    {
      "cell_type": "markdown",
      "source": [
        "3- Faça um Programa que peça as 4 notas bimestrais e mostre a média, usando listas."
      ],
      "metadata": {
        "id": "PtRg4CYsr3mK"
      }
    },
    {
      "cell_type": "code",
      "source": [
        "notas = []\n",
        "for i in range(4):\n",
        "    nota = float(input(f\"Digite a nota do {i + 1}º bimestre: \"))\n",
        "    notas.append(nota)\n",
        "\n",
        "media = sum(notas) / len(notas)\n",
        "\n",
        "print(f\"A média das notas bimestrais é: {media}\")\n"
      ],
      "metadata": {
        "colab": {
          "base_uri": "https://localhost:8080/"
        },
        "id": "Gj9OENHYr_VV",
        "outputId": "90c196da-879c-4f2d-9792-a03be842f52b"
      },
      "execution_count": 12,
      "outputs": [
        {
          "output_type": "stream",
          "name": "stdout",
          "text": [
            "Digite a nota do 1º bimestre: 80\n",
            "Digite a nota do 2º bimestre: 95\n",
            "Digite a nota do 3º bimestre: 87\n",
            "Digite a nota do 4º bimestre: 92\n",
            "A média das notas bimestrais é: 88.5\n"
          ]
        }
      ]
    },
    {
      "cell_type": "markdown",
      "source": [
        "4- Considere que temos uma lista com os nomes de todos os alunos de uma turma, e outra com as notas, na mesma ordem. Como faríamos para acessar, simultaneamente, o nome de um aluno e a sua nota?"
      ],
      "metadata": {
        "id": "1qNcfgN7tHnq"
      }
    },
    {
      "cell_type": "code",
      "source": [
        "# Podemos utilizar a função zip para combinar nomes e notas\n",
        "\n",
        "nomes_alunos = [\"Junio\", \"Juliana\", \"Carlos\", \"Mariana\"]\n",
        "notas_alunos = [85, 90, 78, 92]\n",
        "\n",
        "for nome, nota in zip(nomes_alunos, notas_alunos):\n",
        "    print(f\"Aluno: {nome}, Nota: {nota}\")\n"
      ],
      "metadata": {
        "colab": {
          "base_uri": "https://localhost:8080/"
        },
        "id": "BrEKRPXitSTs",
        "outputId": "afcb7372-77dc-4ada-f0bc-e9cebb253e25"
      },
      "execution_count": 13,
      "outputs": [
        {
          "output_type": "stream",
          "name": "stdout",
          "text": [
            "Aluno: Junio, Nota: 85\n",
            "Aluno: Juliana, Nota: 90\n",
            "Aluno: Carlos, Nota: 78\n",
            "Aluno: Mariana, Nota: 92\n"
          ]
        }
      ]
    },
    {
      "cell_type": "markdown",
      "source": [
        "5- Para que a entrega de alimentos seja feita com qualidade por um serviço de delivery, é muito importante que as caixas de transporte utilizadas por entregadores tenham um revestimento térmico interno, para manter a temperatura dos alimentos. Muitos destes revestimentos são importados de países que utilizam diferentes escalas de temperatura, de modo que as especificações quanto às temperaturas de operação podem gerar confusão.\n",
        "\n",
        "Pensando nisso, escreva um código em Python que recebe um número (que possa ter casas decimais) e a escala de temperatura em que este valor se encontra e para qual ele deseja converter (Celsius, Kelvin ou Fahrenheit). Tanto na escala em que se encontra quanto para a que deseja converter, utilize as letras iniciais como entrada: Celsius - 'C', Kelvin - 'K' ou Fahrenheit - 'F'.\n",
        "\n",
        "Importante: o programa deve trabalhar apenas com as 3 escalas supracitadas! Então, não deixe de fazer as validações necessárias. Além disso, por definição, não existem temperaturas em Kelvin abaixo de zero (o valor zero pode existir), portanto verifique também esta condição para que sejam feitas conversões válidas!"
      ],
      "metadata": {
        "id": "IsRntqkvuGdL"
      }
    },
    {
      "cell_type": "code",
      "source": [
        "def valida_opcoes(valor: str, opcoes: list) -> bool:\n",
        "    return valor in opcoes\n",
        "\n",
        "def verifica_zero_absoluto(valor: float, escala:str, operacoes:dict) -> bool:\n",
        "\n",
        "    if escala != 'K':\n",
        "        valor, = tuple(map(operacoes[escala]['K'], (valor,)))\n",
        "\n",
        "    return valor >= 0\n",
        "\n",
        "def obter_opcoes(opcoes, msg='Opções'):\n",
        "    msg = f\"{msg} ({' | '.join([f'{key} - {values}' for key, values in opcoes.items()])}):\"\n",
        "\n",
        "    while True:\n",
        "        valor = input(msg).upper()\n",
        "\n",
        "        if valida_opcoes(valor, opcoes.keys()):\n",
        "            break\n",
        "\n",
        "        msg = f'Entrada Inválida! As opções validas são {\", \".join(opcoes.keys())} \\n' + msg\n",
        "\n",
        "    return valor\n",
        "\n",
        "def obter_valor(msg='', func=float):\n",
        "\n",
        "    while True:\n",
        "        valor = input(msg)\n",
        "        try:\n",
        "            return list(map(func, [valor]))[0]\n",
        "        except ValueError:\n",
        "            msg = f'Entrada Inválida! {msg}'\n",
        "\n",
        "def menu():\n",
        "\n",
        "    opcoes = {'C': 'Celsius',\n",
        "              'F': 'Fahrenheit',\n",
        "              'K': 'Kelvin'}\n",
        "\n",
        "    escala_entrada = obter_opcoes(opcoes, 'Escolha a escala de entrada')\n",
        "    escala_saida = obter_opcoes(opcoes, 'Escolha a escala de saída')\n",
        "    temperatura = obter_valor('Entre com a temperatura: ')\n",
        "\n",
        "    return escala_entrada, escala_saida, temperatura\n",
        "\n",
        "#https://www.infoescola.com/fisica/conversao-de-escalas-termometricas/\n",
        "\n",
        "#sala1\n",
        "def kelvin_to_celsius(valor: float) -> float:\n",
        "\treturn valor - 273\n",
        "\n",
        "#sala2\n",
        "def kelvin_to_fahrenheit(valor: float) -> float:\n",
        "    return (valor - 273) * 1.8 + 32\n",
        "\n",
        "def celsius_to_kelvin(valor: float) -> float:\n",
        "    return valor + 273\n",
        "\n",
        "def celsius_to_fahrenheit(valor: float) -> float:\n",
        "    return 1.8 * valor + 32\n",
        "\n",
        "def fahrenheit_to_celsius(valor: float) -> float:\n",
        "    return (valor - 32) / 1.8\n",
        "\n",
        "def fahrenheit_to_kelvin(valor: float) -> float:\n",
        "    return (valor - 32) * 5/9 + 273\n",
        "\n",
        "def mesma_op(valor: float) -> float:\n",
        "    return valor\n",
        "\n",
        "OPERACOES = {'K': {\n",
        "                    'C': kelvin_to_celsius,\n",
        "                    'F': kelvin_to_fahrenheit,\n",
        "                    'K': mesma_op\n",
        "                },\n",
        "                'C': {\n",
        "                    'K': celsius_to_kelvin,\n",
        "                    'F': celsius_to_fahrenheit,\n",
        "                    'C': mesma_op\n",
        "                },\n",
        "                'F': {\n",
        "                    'C': fahrenheit_to_celsius,\n",
        "                    'K': fahrenheit_to_kelvin,\n",
        "                    'F': mesma_op\n",
        "                }\n",
        "            }\n",
        "\n",
        "escala_entrada, escala_saida, temperatura =  menu()\n",
        "\n",
        "temperatura_saida, = tuple(map(OPERACOES[escala_entrada][escala_saida], (temperatura,)))\n",
        "\n",
        "if verifica_zero_absoluto(temperatura_saida, escala_saida, OPERACOES):\n",
        "    print(f'Conversão {escala_entrada} -> {escala_saida}: {temperatura_saida}')\n",
        "else:\n",
        "    print('A temperatura informada está abaixo do zero absoluto!')\n",
        "\n",
        "while True:\n",
        "    escala_entrada, escala_saida, temperatura =  menu()\n",
        "\n",
        "    temperatura_saida, = tuple(map(OPERACOES[escala_entrada][escala_saida], (temperatura,)))\n",
        "\n",
        "    if verifica_zero_absoluto(temperatura_saida, escala_saida, OPERACOES):\n",
        "        print(f'Conversão {escala_entrada} -> {escala_saida}: {temperatura_saida}')\n",
        "    else:\n",
        "        print('A temperatura informada está abaixo do zero absoluto!')\n",
        "\n",
        "    if obter_opcoes({'S': 'Sim', 'N': 'Não'}, 'Deseja Sair') == 'S':\n",
        "        break"
      ],
      "metadata": {
        "colab": {
          "base_uri": "https://localhost:8080/"
        },
        "id": "lhqi_5wZugrn",
        "outputId": "9266697f-845c-4402-8a0c-8011a9be7ea1"
      },
      "execution_count": 14,
      "outputs": [
        {
          "name": "stdout",
          "output_type": "stream",
          "text": [
            "Escolha a escala de entrada (C - Celsius | F - Fahrenheit | K - Kelvin):c\n",
            "Escolha a escala de saída (C - Celsius | F - Fahrenheit | K - Kelvin):f\n",
            "Entre com a temperatura: 28\n",
            "Conversão C -> F: 82.4\n",
            "Escolha a escala de entrada (C - Celsius | F - Fahrenheit | K - Kelvin):5\n",
            "Entrada Inválida! As opções validas são C, F, K \n",
            "Escolha a escala de entrada (C - Celsius | F - Fahrenheit | K - Kelvin):k\n",
            "Escolha a escala de saída (C - Celsius | F - Fahrenheit | K - Kelvin):c\n",
            "Entre com a temperatura: 12\n",
            "Conversão K -> C: -261.0\n",
            "Deseja Sair (S - Sim | N - Não):s\n"
          ]
        }
      ]
    }
  ]
}