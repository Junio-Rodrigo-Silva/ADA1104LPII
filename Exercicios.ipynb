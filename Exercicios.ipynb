{
  "nbformat": 4,
  "nbformat_minor": 0,
  "metadata": {
    "colab": {
      "provenance": [],
      "authorship_tag": "ABX9TyMOuWXDt5cx+JuKXJQpdxjb",
      "include_colab_link": true
    },
    "kernelspec": {
      "name": "python3",
      "display_name": "Python 3"
    },
    "language_info": {
      "name": "python"
    }
  },
  "cells": [
    {
      "cell_type": "markdown",
      "metadata": {
        "id": "view-in-github",
        "colab_type": "text"
      },
      "source": [
        "<a href=\"https://colab.research.google.com/github/Junio-Rodrigo-Silva/ADA1104LPII/blob/main/Exercicios.ipynb\" target=\"_parent\"><img src=\"https://colab.research.google.com/assets/colab-badge.svg\" alt=\"Open In Colab\"/></a>"
      ]
    },
    {
      "cell_type": "markdown",
      "source": [
        "Resolva de forma mais eficiente e sucinta usando listas e/ou tuplas:\n",
        "\n",
        "1- Faça um programa que olhe todos os itens de uma lista e diga quantos deles são pares."
      ],
      "metadata": {
        "id": "NH8tW3WXoNzU"
      }
    },
    {
      "cell_type": "code",
      "source": [
        "lista = [1,10,2,3,77,66,80,101]\n",
        "pares = []\n",
        "\n",
        "for num in lista:\n",
        "  if num % 2 == 0:\n",
        "    pares.append(num)\n",
        "print(f\"Os números pares da lista são: {pares}\")"
      ],
      "metadata": {
        "colab": {
          "base_uri": "https://localhost:8080/"
        },
        "id": "FdTF1jMKoaZy",
        "outputId": "f1a0c694-c771-43ff-dbb5-9d1a7b450c3d"
      },
      "execution_count": 6,
      "outputs": [
        {
          "output_type": "stream",
          "name": "stdout",
          "text": [
            "Os números pares da lista são: [10, 2, 66, 80]\n"
          ]
        }
      ]
    }
  ]
}